{
 "cells": [
  {
   "cell_type": "code",
   "execution_count": null,
   "id": "ee547d9a",
   "metadata": {},
   "outputs": [],
   "source": [
    "import pandas as pd"
   ]
  },
  {
   "cell_type": "code",
   "execution_count": null,
   "id": "aaefdd3c",
   "metadata": {},
   "outputs": [],
   "source": [
    "df = pd.read_excel(\"Online Retail.xlsx\")\n",
    "df.head()"
   ]
  },
  {
   "cell_type": "code",
   "execution_count": null,
   "id": "d081e700",
   "metadata": {},
   "outputs": [],
   "source": [
    "## Data Cleaning\n",
    "df.dropna(subset=['Description','CustomerID','InvoiceDate'],inplace=True)\n",
    "df = df[~df['InvoiceNo'].astype(str).str.startswith('C')]\n",
    "df = df[(df['Quantity']>0) & (df[\"UnitPrice\"]>0)]\n",
    "df['InvoiceDate'] = pd.to_datetime(df['InvoiceDate'])"
   ]
  },
  {
   "cell_type": "code",
   "execution_count": null,
   "id": "8bf7f4f7",
   "metadata": {},
   "outputs": [],
   "source": [
    "## Time based feature engineering\n",
    "df['Year'] = df['InvoiceDate'].dt.year\n",
    "df['Month'] = df['InvoiceDate'].dt.month\n",
    "df['Day'] = df['InvoiceDate'].dt.day\n",
    "df['DayOfWeek'] = df['InvoiceDate'].dt.day_of_week\n",
    "df['Hour'] = df['InvoiceDate'].dt.hour\n",
    "df['WeekOfYear'] = df['InvoiceDate'].dt.isocalendar().week\n",
    "df['TimeOfDay'] = pd.cut(\n",
    "    df['Hour'],\n",
    "    bins=[0,6,12,18,24],\n",
    "    labels =['Night','Morning','Afternoon','Evening'],\n",
    "    right=False\n",
    ")\n",
    "df['IsWeekend'] = df['DayOfWeek'].isin([5,6]).astype(int)"
   ]
  },
  {
   "cell_type": "code",
   "execution_count": null,
   "id": "86fecc13",
   "metadata": {},
   "outputs": [],
   "source": [
    "## Overall Stats and Demand\n",
    "\n",
    "# Product Sales\n",
    "product_sales = df.groupby('Description')['Quantity'].sum().reset_index()\n",
    "product_sales.columns =['Description','TotalProductSales']\n",
    "\n",
    "# Product Revenue\n",
    "df['Revenue'] = df['Quantity'] * df['UnitPrice']\n",
    "product_revenue = df.groupby('Description')['Revenue'].sum().reset_index()\n",
    "product_revenue.columns = ['Description','TotalProductRevenue']\n",
    "\n",
    "# Average Unit Price\n",
    "product_avg_price = df.groupby('Description')['UnitPrice'].mean().reset_index()\n",
    "product_avg_price.columns = ['Description','AvgProductPrice']\n",
    "\n",
    "product_stats = product_sales.merge(product_revenue,on='Description').merge(product_avg_price,on='Description')\n",
    "\n",
    "df = df.merge(product_stats,on='Description')"
   ]
  },
  {
   "cell_type": "code",
   "execution_count": null,
   "id": "4c963ad5",
   "metadata": {},
   "outputs": [],
   "source": [
    "df = df.sort_values(by='InvoiceDate')\n",
    "\n",
    "rolling_sales = (\n",
    "    df.groupby('Description')['Quantity']\n",
    "    .rolling('7D')\n",
    "    .sum()\n",
    "    .reset_index()\n",
    "    .rename(columns={'Quantity': 'Rolling7D_Sales'})\n",
    ")\n",
    "\n",
    "df = df.reset_index().merge(rolling_sales, on=['InvoiceDate', 'Description'], how='left')\n",
    "\n",
    "epsilon = 1e-5\n",
    "df['Relative7D_Demand'] = df['Rolling7D_Sales'] / (df['TotalProductSales'] + epsilon)"
   ]
  },
  {
   "cell_type": "code",
   "execution_count": null,
   "id": "166b75ae",
   "metadata": {},
   "outputs": [],
   "source": [
    "## Data Preprocessing for Model Training\n",
    "from sklearn.preprocessing import LabelEncoder\n",
    "from sklearn.model_selection import train_test_split\n",
    "\n",
    "le_desc = LabelEncoder()\n",
    "le_country = LabelEncoder()\n",
    "le_timeOfDay = LabelEncoder()\n",
    "df['Description_Encoded'] = le_desc.fit_transform(df['Description'])\n",
    "df['Country_Encoded'] = le_country.fit_transform(df['Country'])\n",
    "df['TimeOfDay_Encoded'] = le_timeOfDay.fit_transform(df['TimeOfDay'])\n",
    "\n",
    "cols_to_drop = ['InvoiceNo', 'StockCode', 'Description', 'CustomerID', 'Country','InvoiceDate', 'TimeOfDay', 'UnitPrice']\n",
    "x = df.drop(columns=cols_to_drop)\n",
    "y = df['UnitPrice']\n",
    "\n",
    "x_train, x_test, y_train, y_test = train_test_split(x,y,test_size=0.2)"
   ]
  },
  {
   "cell_type": "code",
   "execution_count": null,
   "id": "c564af75",
   "metadata": {},
   "outputs": [],
   "source": [
    "## Model Evaluation using KFolds\n",
    "\n",
    "from sklearn.model_selection import KFold\n",
    "from sklearn.model_selection import train_test_split\n",
    "from sklearn.ensemble import RandomForestRegressor\n",
    "from xgboost import XGBRegressor\n",
    "from lightgbm import LGBMRegressor\n",
    "from catboost import CatBoostRegressor\n",
    "\n",
    "def evaluateModel(model, xtrain,xtest,ytrain,ytest) :\n",
    "      model.fit(xtrain,ytrain)\n",
    "      return model.score(xtest,ytest)   \n",
    "  \n",
    "kf = KFold(n_splits=5)\n",
    "rf_scores =[]\n",
    "xgb_scores=[]\n",
    "lgm_scores=[]\n",
    "cb_scores=[]\n",
    "\n",
    "for train_idx , test_idx in kf.split(x) :\n",
    "    xtrain, xtest, ytrain, ytest = x.iloc[train_idx], x.iloc[test_idx], y.iloc[train_idx], y.iloc[test_idx]\n",
    "    rf_scores.append(evaluateModel(RandomForestRegressor(),xtrain,xtest,ytrain,ytest))\n",
    "    xgb_scores.append(evaluateModel(XGBRegressor(),xtrain,xtest,ytrain,ytest))\n",
    "    lgm_scores.append(evaluateModel(LGBMRegressor(),xtrain,xtest,ytrain,ytest))\n",
    "    cb_scores.append(evaluateModel(CatBoostRegressor(),xtrain,xtest,ytrain,ytest))\n",
    "    \n",
    "print(\"\\nRandom Forest : \", rf_scores )\n",
    "print(\"\\nXGBoost : \", xgb_scores )\n",
    "print(\"\\nLightgbm : \", lgm_scores )\n",
    "print(\"\\nCatboost : \", cb_scores )\n",
    "\n",
    "# Random Forest :  [0.7346024842370784, 0.5386385350957635, 0.9428367193665621, 0.8220178901377679, 0.7869319145447938]\n",
    "# XGBoost :  [-19.84647015973839, 0.2709374971644768, -7.801290549891426e-05, 0.4110827006239163, -6.317344650602467]\n",
    "# Lightgbm :  [-0.1323997735987168, 0.4576728316241595, 0.9237278425450924, 0.6281390681396444, 0.8734114246133489]\n",
    "# Catboost :  [np.float64(-0.9620748188968691), np.float64(0.41323079092446624), np.float64(-0.46392853097161124), np.float64(0.524087803816853), np.float64(0.6390182647258191)]"
   ]
  },
  {
   "cell_type": "code",
   "execution_count": null,
   "id": "dfec20af",
   "metadata": {},
   "outputs": [],
   "source": [
    "## Finalizing Model\n",
    "\n",
    "finalModel = RandomForestRegressor()\n",
    "finalModel.fit(x_train,y_train)"
   ]
  },
  {
   "cell_type": "code",
   "execution_count": null,
   "id": "4aeaa2f1",
   "metadata": {},
   "outputs": [],
   "source": [
    "## Model Performance\n",
    "from sklearn.metrics import r2_score, mean_absolute_error, mean_squared_error\n",
    "import numpy as np\n",
    "\n",
    "predictions = finalModel.predict(x_test)\n",
    "print('R2 Score:', r2_score(y_test, predictions))\n",
    "print('MAE:', mean_absolute_error(y_test, predictions))\n",
    "print('RMSE:', np.sqrt(mean_squared_error(y_test, predictions)))\n",
    "\n",
    "# R2 Score: 0.9011171262367133\n",
    "# MAE: 0.07493807452535428\n",
    "# RMSE: 7.178960416817223"
   ]
  },
  {
   "cell_type": "code",
   "execution_count": null,
   "id": "6b81bd4a",
   "metadata": {},
   "outputs": [],
   "source": [
    "## Save Model\n",
    "\n",
    "import joblib\n",
    "\n",
    "joblib.dump(finalModel,\"DynamicPricingEngine.pkl\")"
   ]
  }
 ],
 "metadata": {
  "kernelspec": {
   "display_name": "Python 3",
   "language": "python",
   "name": "python3"
  },
  "language_info": {
   "codemirror_mode": {
    "name": "ipython",
    "version": 3
   },
   "file_extension": ".py",
   "mimetype": "text/x-python",
   "name": "python",
   "nbconvert_exporter": "python",
   "pygments_lexer": "ipython3",
   "version": "3.13.3"
  }
 },
 "nbformat": 4,
 "nbformat_minor": 5
}
